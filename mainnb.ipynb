{
 "cells": [
  {
   "cell_type": "code",
   "execution_count": 3,
   "metadata": {},
   "outputs": [],
   "source": [
    "from scipy import stats\n",
    "import numpy as np\n",
    "import math\n"
   ]
  },
  {
   "cell_type": "code",
   "execution_count": 4,
   "metadata": {},
   "outputs": [],
   "source": [
    "def black_scholes(s, k, t, v, rf, cp):\n",
    "    \"\"\"Price an option using the Black-Scholes model.\n",
    "    \n",
    "    s : initial stock price\n",
    "    k : strike price\n",
    "    t : expiration time\n",
    "    v : volatility\n",
    "    rf : risk-free rate\n",
    "    cp : +1/-1 for call/put\n",
    "    \"\"\"\n",
    "    d1 = (math.log(s/k)+(rf+0.5*math.pow(v,2))*t)/(v*math.sqrt(t))\n",
    "    d2 = d1 - v*math.sqrt(t)\n",
    "    optprice = cp*s*stats.norm.cdf(cp*d1) - \\\n",
    "        cp*k*math.exp(-rf*t)*stats.norm.cdf(cp*d2) \n",
    "    return optprice\n"
   ]
  },
  {
   "cell_type": "code",
   "execution_count": 5,
   "metadata": {},
   "outputs": [],
   "source": [
    "def jarrow_rudd(s, k, t, v, rf, cp, am=False, n=100):\n",
    "    \"\"\"Price an option using the Jarrow-Rudd binomial model.\n",
    "    \n",
    "    s : initial stock price\n",
    "    k : strike price\n",
    "    t : expiration time\n",
    "    v : volatility\n",
    "    rf : risk-free rate\n",
    "    cp : +1/-1 for call/put\n",
    "    am : True/False for American/European\n",
    "    n : binomial steps\n",
    "    \"\"\"\n",
    "    #Basic calculations\n",
    "    h = t/n\n",
    "    mu=(rf-0.5*math.pow(v,2))\n",
    "    u = math.exp(mu*h+v*math.sqrt(h))\n",
    "    d = math.exp(mu*h-v*math.sqrt(h))\n",
    "    drift = math.exp(rf*h)\n",
    "    q = (drift-d)/(u-d)\n",
    "\n",
    "    #Process the terminal stock price\n",
    "    stkval = np.zeros((n+1,n+1))\n",
    "    optval = np.zeros((n+1,n+1))\n",
    "    stkval[0,0] = s\n",
    "    for i in range(n+1):\n",
    "        for j in range(i + 1):\n",
    "            stkval[i, j] = s * u**(i-j) * d**j\n",
    "\n",
    "    #Backward recursion for option price\n",
    "    for j in range(n+1):\n",
    "        optval[n,j] = max(0,cp*(stkval[n,j]-k))\n",
    "    for i in range(n-1,-1,-1):\n",
    "        for j in range(i+1):\n",
    "            optval[i,j] = (q*optval[i+1,j]+(1-q)*optval[i+1,j+1])/drift\n",
    "            if am:\n",
    "                optval[i,j] = max(optval[i,j],cp*(stkval[i,j]-k))\n",
    "\n",
    "    return optval[0,0],stkval\n"
   ]
  },
  {
   "cell_type": "code",
   "execution_count": 6,
   "metadata": {},
   "outputs": [],
   "source": [
    "def cox_ross_rubinstein(s, k, t, v, rf, cp, am=False, n=100):\n",
    "    \"\"\"Price an option using the Jarrow-Rudd binomial model.\n",
    "    \n",
    "    s : initial stock price\n",
    "    k : strike price\n",
    "    t : expiration time\n",
    "    v : volatility\n",
    "    rf : risk-free rate\n",
    "    cp : +1/-1 for call/put\n",
    "    am : True/False for American/European\n",
    "    n : binomial steps\n",
    "    \"\"\"\n",
    "    #Basic calculations\n",
    "    h = t/n\n",
    "    u = math.exp(v*math.sqrt(h))\n",
    "    d = math.exp(-v*math.sqrt(h))\n",
    "    drift = math.exp(rf*h)\n",
    "    q = (drift-d)/(u-d)\n",
    "\n",
    "    #Process the terminal stock price\n",
    "    stkval = np.zeros((n+1,n+1))\n",
    "    optval = np.zeros((n+1,n+1))\n",
    "    stkval[0,0] = s\n",
    "    for i in range(1,n+1):\n",
    "        stkval[i,0] = stkval[i-1,0]*u\n",
    "        for j in range(1,i+1):\n",
    "            stkval[i,j] = stkval[i-1,j-1]*d\n",
    "\n",
    "    #Backward recursion for option price\n",
    "    for j in range(n+1):\n",
    "        optval[n,j] = max(0,cp*(stkval[n,j]-k))\n",
    "    for i in range(n-1,-1,-1):\n",
    "        for j in range(i+1):\n",
    "            optval[i,j] = (q*optval[i+1,j]+(1-q)*optval[i+1,j+1])/drift\n",
    "            if am:\n",
    "                optval[i,j] = max(optval[i,j],cp*(stkval[i,j]-k))\n",
    "\n",
    "    return optval[0,0],stkval\n"
   ]
  },
  {
   "cell_type": "code",
   "execution_count": 7,
   "metadata": {},
   "outputs": [],
   "source": [
    "def modified_cox_ross_rubinstein(s, k, t, v, rf, cp, am=False, n=100):\n",
    "    \"\"\"Price an option using the Jarrow-Rudd binomial model.\n",
    "    \n",
    "    s : initial stock price\n",
    "    k : strike price\n",
    "    t : expiration time\n",
    "    v : volatility\n",
    "    rf : risk-free rate\n",
    "    cp : +1/-1 for call/put\n",
    "    am : True/False for American/European\n",
    "    n : binomial steps\n",
    "    \"\"\"\n",
    "    #Basic calculations\n",
    "    h = t/n\n",
    "    mu=(rf-0.5*math.pow(v,2))\n",
    "    drift = math.exp(rf*h)\n",
    "    u = (math.exp(-rf * h) / 2) * (mu + math.exp((2 * rf + v**2) * h) + math.sqrt( (1 + math.exp((2 * rf + v**2) * h))**2 - 4 * math.exp(2 * rf * h)))\n",
    "    d = (math.exp(-rf * h) / 2) * (mu + math.exp((2 * rf + v**2) * h) - math.sqrt( (1 + math.exp((2 * rf + v**2) * h))**2 - 4 * math.exp(2 * rf * h)))\n",
    "    q = (drift-d)/(u-d)\n",
    "    \n",
    "    #Process the terminal stock price\n",
    "    stkval = np.zeros((n+1,n+1))\n",
    "    optval = np.zeros((n+1,n+1))\n",
    "    stkval[0,0] = s\n",
    "    for i in range(1,n+1):\n",
    "        stkval[i,0] = stkval[i-1,0]*u\n",
    "        for j in range(1,i+1):\n",
    "            stkval[i,j] = stkval[i-1,j-1]*d\n",
    "\n",
    "    #Backward recursion for option price\n",
    "    for j in range(n+1):\n",
    "        optval[n,j] = max(0,cp*(stkval[n,j]-k))\n",
    "    for i in range(n-1,-1,-1):\n",
    "        for j in range(i+1):\n",
    "            optval[i,j] = (q*optval[i+1,j]+(1-q)*optval[i+1,j+1])/drift\n",
    "            if am:\n",
    "                optval[i,j] = max(optval[i,j],cp*(stkval[i,j]-k))\n",
    "\n",
    "    return optval[0,0],stkval\n"
   ]
  },
  {
   "cell_type": "code",
   "execution_count": 8,
   "metadata": {},
   "outputs": [],
   "source": [
    "def kamrad_ritchken(s, k, t, v, rf, cp, am=False, n=100):\n",
    "    \"\"\"Price an option using the kamrad-ritchken binomial model.\n",
    "    \n",
    "    s : initial stock price\n",
    "    k : strike price\n",
    "    t : expiration time\n",
    "    v : volatility\n",
    "    rf : risk-free rate\n",
    "    cp : +1/-1 for call/put\n",
    "    am : True/False for American/European\n",
    "    n : trinomial steps\n",
    "    \"\"\"\n",
    "    #Basic calculations\n",
    "    h = t/n\n",
    "    mu=rf-v**2/2\n",
    "    Lambda= math.sqrt(1/(1-1/3))\n",
    "    alpha= math.sqrt(1+h*(mu/v)**2)\n",
    "    u = np.exp(v*alpha*Lambda * np.sqrt(h))\n",
    "    d = 1.0 / u\n",
    "    drift = math.exp(rf*h)\n",
    "    pu=1/(2*Lambda**2)+mu*np.sqrt(h)/(2*Lambda*v)\n",
    "    pd=1/(2*Lambda**2)-mu*np.sqrt(h)/(2*Lambda*v)\n",
    "    pm=1-1/Lambda**2\n",
    "\n",
    "    #Process the terminal stock price\n",
    "    stkval = np.zeros((n+1,2*n+1))\n",
    "    optval = np.zeros((n+1,2*n+1))\n",
    "    stkval[0,0] = s\n",
    "    for i in range(n+1):\n",
    "        for j in range(2*i + 1):\n",
    "            stkval[i, j] = s * u**(i-j if (i>=j) else 0) * d**((j-i) if (i<j) else 0)\n",
    "\n",
    "    #Backward recursion for option price\n",
    "    for j in range(n+1):\n",
    "        optval[n,j] = max(0,cp*(stkval[n,j]-k))\n",
    "    for i in range(n-1,-1,-1):\n",
    "        for j in range(2*i+1):\n",
    "            optval[i,j] = (pu*optval[i+1,j]+pm*optval[i+1,j+1]+pd*optval[i+1,j+2]) /drift\n",
    "            if am:\n",
    "                optval[i,j] = max(optval[i,j],cp*(stkval[i,j]-k))\n",
    "\n",
    "    return optval[0,0],stkval\n"
   ]
  },
  {
   "cell_type": "code",
   "execution_count": 12,
   "metadata": {},
   "outputs": [],
   "source": [
    "# Define parameters\n",
    "s=S = 100\n",
    "K = 110\n",
    "T = 0.5\n",
    "rf = 0.03\n",
    "sigma = 0.3\n",
    "n=2"
   ]
  },
  {
   "cell_type": "code",
   "execution_count": 13,
   "metadata": {},
   "outputs": [],
   "source": [
    "u=1.001\n",
    "d=1/u"
   ]
  },
  {
   "cell_type": "code",
   "execution_count": 14,
   "metadata": {},
   "outputs": [
    {
     "data": {
      "text/plain": [
       "array([[100.       ,   0.       ,   0.       ,   0.       ,   0.       ],\n",
       "       [100.1      , 100.       ,  99.9000999,   0.       ,   0.       ],\n",
       "       [100.2001   , 100.1      , 100.       ,  99.9000999,  99.8002996]])"
      ]
     },
     "execution_count": 14,
     "metadata": {},
     "output_type": "execute_result"
    }
   ],
   "source": [
    "stkval = np.zeros((n+1,2*n+1))\n",
    "optval = np.zeros((n+1,2*n+1))\n",
    "stkval[0,0] = s\n",
    "for i in range(n+1):\n",
    "    for j in range(2*i + 1):\n",
    "        stkval[i, j] = s * u**(i-j if (i>=j) else 0) * d**((j-i) if (i<j) else 0)\n",
    "stkval"
   ]
  },
  {
   "cell_type": "code",
   "execution_count": 15,
   "metadata": {},
   "outputs": [
    {
     "data": {
      "text/plain": [
       "array([[100.       ,   0.       ,   0.       ,   0.       ,   0.       ],\n",
       "       [ 99.9000999, 100.       , 100.1      ,   0.       ,   0.       ],\n",
       "       [ 99.8002996,  99.9000999, 100.       , 100.1      , 100.2001   ]])"
      ]
     },
     "execution_count": 15,
     "metadata": {},
     "output_type": "execute_result"
    }
   ],
   "source": [
    "stkval = np.zeros((n+1,2*n+1))\n",
    "optval = np.zeros((n+1,2*n+1))\n",
    "stkval[0,0] = s\n",
    "for i in range(n+1):\n",
    "    for j in range(2*i + 1):\n",
    "        stkval[i, j] = s * d**(i-j if (i>=j) else 0) * u**((j-i) if (i<j) else 0)\n",
    "stkval"
   ]
  },
  {
   "cell_type": "code",
   "execution_count": 251,
   "metadata": {},
   "outputs": [
    {
     "data": {
      "text/plain": [
       "5.239505678484882"
      ]
     },
     "execution_count": 251,
     "metadata": {},
     "output_type": "execute_result"
    }
   ],
   "source": [
    "black_scholes(S, K, T,sigma,rf, 1)"
   ]
  },
  {
   "cell_type": "code",
   "execution_count": 252,
   "metadata": {},
   "outputs": [
    {
     "data": {
      "text/plain": [
       "5.363408688114021"
      ]
     },
     "execution_count": 252,
     "metadata": {},
     "output_type": "execute_result"
    }
   ],
   "source": [
    "cox_ross_rubinstein(S, K, T,sigma,rf, 1, n=10)[0]"
   ]
  },
  {
   "cell_type": "code",
   "execution_count": 254,
   "metadata": {},
   "outputs": [
    {
     "data": {
      "text/plain": [
       "0.0"
      ]
     },
     "execution_count": 254,
     "metadata": {},
     "output_type": "execute_result"
    }
   ],
   "source": [
    "modified_cox_ross_rubinstein(S, K, T,sigma,rf, 1, n=10)[0]"
   ]
  },
  {
   "cell_type": "code",
   "execution_count": 221,
   "metadata": {},
   "outputs": [],
   "source": [
    "import option_models"
   ]
  },
  {
   "cell_type": "code",
   "execution_count": 238,
   "metadata": {},
   "outputs": [
    {
     "data": {
      "image/png": "[encoded data removed]",
      "text/plain": [
       "<Figure size 640x480 with 1 Axes>"
      ]
     },
     "metadata": {},
     "output_type": "display_data"
    }
   ],
   "source": [
    "import matplotlib.pyplot as plt\n",
    "import numpy as np\n",
    "\n",
    "\n",
    "n_values = np.arange(1, 100, 5)  # Vary 'n' from 1 to 100 with step 5\n",
    "\n",
    "# Calculate option prices using different methods for each 'n'\n",
    "cox_ross_rubinstein_prices = [cox_ross_rubinstein(S, K, T,sigma,rf, 1, am=False, n=n)[0] for n in n_values]\n",
    "modified_cox_ross_rubinstein_p = [modified_cox_ross_rubinstein(S, K, T,sigma,rf, 1, n=n)[0] for n in n_values]\n",
    "black_scholes_price = [black_scholes(S, K, T,sigma,rf, 1)]*20\n",
    "\n",
    "# Plot the convergence graph\n",
    "plt.plot(n_values, cox_ross_rubinstein_prices, label='Cox-Ross-Rubinstein')\n",
    "plt.plot(n_values, modified_cox_ross_rubinstein_p, label='MCRR')\n",
    "plt.plot(n_values, black_scholes_price, label='Black-scholes')\n",
    "plt.xlabel('n')\n",
    "plt.ylabel('Absolute Difference from Black-Scholes')\n",
    "plt.title('Convergence of Option Price Calculation Methods')\n",
    "plt.legend()\n",
    "plt.show()\n"
   ]
  },
  {
   "cell_type": "code",
   "execution_count": 211,
   "metadata": {},
   "outputs": [
    {
     "data": {
      "text/plain": [
       "7.808845120133544"
      ]
     },
     "execution_count": 211,
     "metadata": {},
     "output_type": "execute_result"
    }
   ],
   "source": [
    "kamrad_ritchken(S, K, T,sigma,rf, 1, am=False, n=1900)[0]"
   ]
  },
  {
   "cell_type": "code",
   "execution_count": 212,
   "metadata": {},
   "outputs": [
    {
     "data": {
      "text/plain": [
       "7.807674312891706"
      ]
     },
     "execution_count": 212,
     "metadata": {},
     "output_type": "execute_result"
    }
   ],
   "source": [
    "black_scholes(S, K, T,sigma,rf, 1)"
   ]
  },
  {
   "cell_type": "markdown",
   "metadata": {},
   "source": [
    "# expand\n"
   ]
  },
  {
   "cell_type": "code",
   "execution_count": 214,
   "metadata": {},
   "outputs": [],
   "source": [
    "import math\n",
    "import numpy as np\n",
    "\n"
   ]
  },
  {
   "cell_type": "code",
   "execution_count": 215,
   "metadata": {},
   "outputs": [],
   "source": [
    "def kamrad_ritchken_varying_volatility(s, k, t, v_func, rf, cp, am=False, n=100):\n",
    "    \"\"\"Price an option using the kamrad-ritchken binomial model with varying volatility.\n",
    "    \n",
    "    s : initial stock price\n",
    "    k : strike price\n",
    "    t : expiration time\n",
    "    v_func : function that takes time 't' and returns volatility at time 't'\n",
    "    rf : risk-free rate\n",
    "    cp : +1/-1 for call/put\n",
    "    am : True/False for American/European\n",
    "    n : trinomial steps\n",
    "    \"\"\"\n",
    "    # Basic calculations\n",
    "    h = t / n\n",
    "    mu = rf - v_func(t)**2 / 2\n",
    "    Lambda = math.sqrt(1 / (1 - 1/3))\n",
    "    alpha = math.sqrt(1 + h * (mu / v_func(t))**2)\n",
    "    u = np.exp(v_func(t) * alpha * Lambda * np.sqrt(h))\n",
    "    d = 1.0 / u\n",
    "    drift = math.exp(rf * h)\n",
    "    pu = 1 / (2 * Lambda**2) + mu * np.sqrt(h) / (2 * Lambda * v_func(t))\n",
    "    pd = 1 / (2 * Lambda**2) - mu * np.sqrt(h) / (2 * Lambda * v_func(t))\n",
    "    pm = 1 - 1 / Lambda**2\n",
    "\n",
    "    # Process the terminal stock price\n",
    "    stkval = np.zeros((n+1, 2*n+1))\n",
    "    optval = np.zeros((n+1, 2*n+1))\n",
    "    stkval[0, 0] = s\n",
    "    for i in range(n+1):\n",
    "        for j in range(2*i + 1):\n",
    "            stkval[i, j] = s * u**(i-j if (i >= j) else 0) * d**((j-i) if (i < j) else 0)\n",
    "\n",
    "    # Backward recursion for option price\n",
    "    for j in range(n+1):\n",
    "        optval[n, j] = max(0, cp * (stkval[n, j] - k))\n",
    "\n",
    "    for i in range(n-1, -1, -1):\n",
    "        for j in range(2*i+1):\n",
    "            optval[i, j] = (pu * optval[i+1, j] + pm * optval[i+1, j+1] + pd * optval[i+1, j+2]) / drift\n",
    "            if am:\n",
    "                optval[i, j] = max(optval[i, j], cp * (stkval[i, j] - k))\n",
    "\n",
    "    return optval[0, 0], stkval\n"
   ]
  },
  {
   "cell_type": "code",
   "execution_count": 216,
   "metadata": {},
   "outputs": [],
   "source": [
    "def constant_volatility(t):\n",
    "    return 0.2  # Constant volatility of 20%\n",
    "\n",
    "def varying_volatility(t):\n",
    "    return 0.2 + 0.02 * t  # Linearly increasing volatility\n"
   ]
  },
  {
   "cell_type": "code",
   "execution_count": 217,
   "metadata": {},
   "outputs": [],
   "source": [
    "import numpy as np\n",
    "from scipy.stats import norm\n",
    "\n",
    "# Define a range of input values\n",
    "S_values = np.linspace(90, 110, 21)  # Initial stock price\n",
    "K_values = np.linspace(90, 110, 21)  # Strike price\n",
    "T_values = np.linspace(0.25, 2, 5)  # Time to expiration\n",
    "v_values = np.linspace(0.1, 0.3, 5)  # Volatility\n",
    "r_values = np.linspace(0.01, 0.05, 5)  # Risk-free rate\n",
    "\n",
    "# Loop through all combinations of input values\n",
    "for S in S_values:\n",
    "    for K in K_values:\n",
    "        for T in T_values:\n",
    "            for sigma in v_values:\n",
    "                for rf in r_values:\n",
    "                    # Calculate option price using Black-Scholes\n",
    "                    d1 = (np.log(S/K) + (rf + 0.5*sigma**2)*T) / (sigma*np.sqrt(T))\n",
    "                    d2 = d1 - sigma*np.sqrt(T)\n",
    "                    BS_price = (norm.cdf(d1)*S - norm.cdf(d2)*K) * np.exp(-rf*T)\n",
    "                    \n",
    "                    # Calculate option price using Kamrad-Ritchken model\n",
    "                    def constant_volatility(t):\n",
    "                        return sigma  # Assuming constant volatility\n",
    "                    KR_price, _ = kamrad_ritchken_varying_volatility(S, K, T, constant_volatility, rf, 1, False, 100)\n",
    "                    \n",
    "                    # Compare the prices and perform further analysis as needed\n",
    "                    price_difference = abs(BS_price - KR_price)\n",
    "                    # Perform any additional analysis or record the results as needed\n"
   ]
  },
  {
   "cell_type": "code",
   "execution_count": 219,
   "metadata": {},
   "outputs": [
    {
     "data": {
      "text/plain": [
       "16.26965060928291"
      ]
     },
     "execution_count": 219,
     "metadata": {},
     "output_type": "execute_result"
    }
   ],
   "source": [
    "BS_price"
   ]
  },
  {
   "cell_type": "code",
   "execution_count": 220,
   "metadata": {},
   "outputs": [
    {
     "data": {
      "text/plain": [
       "23.2986027489125"
      ]
     },
     "execution_count": 220,
     "metadata": {},
     "output_type": "execute_result"
    }
   ],
   "source": [
    "KR_price"
   ]
  },
  {
   "cell_type": "code",
   "execution_count": 218,
   "metadata": {},
   "outputs": [
    {
     "data": {
      "text/plain": [
       "7.028952139629592"
      ]
     },
     "execution_count": 218,
     "metadata": {},
     "output_type": "execute_result"
    }
   ],
   "source": [
    "price_difference"
   ]
  }
 ],
 "metadata": {
  "kernelspec": {
   "display_name": ".venv",
   "language": "python",
   "name": "python3"
  },
  "language_info": {
   "codemirror_mode": {
    "name": "ipython",
    "version": 3
   },
   "file_extension": ".py",
   "mimetype": "text/x-python",
   "name": "python",
   "nbconvert_exporter": "python",
   "pygments_lexer": "ipython3",
   "version": "3.11.5"
  }
 },
 "nbformat": 4,
 "nbformat_minor": 2
}
